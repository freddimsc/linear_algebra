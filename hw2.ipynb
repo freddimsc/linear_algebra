{
 "cells": [
  {
   "cell_type": "code",
   "execution_count": 14,
   "id": "b6a19e30",
   "metadata": {},
   "outputs": [],
   "source": [
    "import numpy as np"
   ]
  },
  {
   "cell_type": "markdown",
   "id": "03db83f1",
   "metadata": {},
   "source": [
    "1. Найти скалярное произведение векторов\n",
    "$x, y \\in \\mathbb{R}$:\n",
    "\n",
    "\n",
    "а) $x=(0,-3, 6), ~y=(-4, 7, 9);$\n",
    "\n",
    "\n",
    "б) $x=(7, -4, 0, 1), ~y=(-3, 1, 11, 2).$"
   ]
  },
  {
   "cell_type": "code",
   "execution_count": 15,
   "id": "ceb38f59",
   "metadata": {},
   "outputs": [
    {
     "data": {
      "text/plain": [
       "33"
      ]
     },
     "execution_count": 15,
     "metadata": {},
     "output_type": "execute_result"
    }
   ],
   "source": [
    "result_a = np.dot([0,-3,6], [-4, 7, 9])\n",
    "result_a"
   ]
  },
  {
   "cell_type": "markdown",
   "id": "713d7905",
   "metadata": {},
   "source": [
    "\n",
    "б) $x=(7, -4, 0, 1), ~y=(-3, 1, 11, 2).$"
   ]
  },
  {
   "cell_type": "code",
   "execution_count": 16,
   "id": "6675fb1c",
   "metadata": {},
   "outputs": [
    {
     "data": {
      "text/plain": [
       "-23"
      ]
     },
     "execution_count": 16,
     "metadata": {},
     "output_type": "execute_result"
    }
   ],
   "source": [
    "\n",
    "result_b = np.dot([7,-4,0,1], [-3,1,11,2])\n",
    "result_b"
   ]
  },
  {
   "cell_type": "markdown",
   "id": "9769717e",
   "metadata": {},
   "source": [
    "2. Найти нормы векторов $(4, 2, 4)$ и $(12, 3, 4)$ и угол между ними.\n",
    "\n"
   ]
  },
  {
   "cell_type": "code",
   "execution_count": 17,
   "id": "d344837c",
   "metadata": {},
   "outputs": [],
   "source": [
    "# норма вектора $(4, 2, 4)$"
   ]
  },
  {
   "cell_type": "code",
   "execution_count": 18,
   "id": "0d7d942a",
   "metadata": {},
   "outputs": [
    {
     "data": {
      "text/plain": [
       "6.0"
      ]
     },
     "execution_count": 18,
     "metadata": {},
     "output_type": "execute_result"
    }
   ],
   "source": [
    "a = [4,2,4]\n",
    "result2_1 = np.linalg.norm(a)\n",
    "result2_1"
   ]
  },
  {
   "cell_type": "code",
   "execution_count": 19,
   "id": "485b75ad",
   "metadata": {},
   "outputs": [],
   "source": [
    "# норма вектора $(12, 3, 4)$"
   ]
  },
  {
   "cell_type": "code",
   "execution_count": 20,
   "id": "c17ed24b",
   "metadata": {},
   "outputs": [
    {
     "data": {
      "text/plain": [
       "13.0"
      ]
     },
     "execution_count": 20,
     "metadata": {},
     "output_type": "execute_result"
    }
   ],
   "source": [
    "b = [12,3,4]\n",
    "result2_2 = np.linalg.norm(b)\n",
    "result2_2"
   ]
  },
  {
   "cell_type": "code",
   "execution_count": 21,
   "id": "0cadc83d",
   "metadata": {},
   "outputs": [],
   "source": [
    "# угол между векторами a и b"
   ]
  },
  {
   "cell_type": "code",
   "execution_count": 22,
   "id": "ce2e990c",
   "metadata": {},
   "outputs": [
    {
     "data": {
      "text/plain": [
       "26.176952171666546"
      ]
     },
     "execution_count": 22,
     "metadata": {},
     "output_type": "execute_result"
    }
   ],
   "source": [
    "result = np.arccos(np.dot(a,b)/(result2_1*result2_2))/np.pi * 180\n",
    "result"
   ]
  },
  {
   "cell_type": "markdown",
   "id": "9c0d8606",
   "metadata": {},
   "source": [
    "3. Будет ли линейное пространство евклидовым, если за скалярное произведение принять:\n",
    "\n",
    "\n",
    "а) произведение длин векторов;\n",
    "\n",
    "\n",
    "б) утроенное обычное скалярное произведение векторов?"
   ]
  },
  {
   "cell_type": "markdown",
   "id": "cc3f9711",
   "metadata": {},
   "source": [
    "Ответ : а - нет, б -да"
   ]
  },
  {
   "cell_type": "markdown",
   "id": "e9d5ba12",
   "metadata": {},
   "source": [
    "4. Какие из нижеперечисленных векторов образуют ортонормированный базис в линейном пространстве $\\mathbb{R}^{3}$:\n",
    "\n",
    "\n",
    "а) $(1,0,0), (0,0,1);$\n",
    "\n",
    "\n",
    "б) $(1/\\sqrt{2},-1/\\sqrt{2},0), (1/\\sqrt{2},1/\\sqrt{2},0), (0,0,1);$\n",
    "\n",
    "\n",
    "в) $(1/2, -1/2, 0), (0, 1/2, 1/2), (0,0,1);$\n",
    "\n",
    "\n",
    "г) $(1,0,0), (0,1,0), (0,0,1)?$\n",
    "\n"
   ]
  },
  {
   "cell_type": "markdown",
   "id": "c936df6d",
   "metadata": {},
   "source": [
    "Ответ :  \n",
    "а) нет\n",
    "\n",
    "б) да\n",
    "\n",
    "в) нет\n",
    "\n",
    "г) да"
   ]
  },
  {
   "cell_type": "code",
   "execution_count": null,
   "id": "396e9041",
   "metadata": {},
   "outputs": [],
   "source": []
  }
 ],
 "metadata": {
  "kernelspec": {
   "display_name": "Python 3 (ipykernel)",
   "language": "python",
   "name": "python3"
  },
  "language_info": {
   "codemirror_mode": {
    "name": "ipython",
    "version": 3
   },
   "file_extension": ".py",
   "mimetype": "text/x-python",
   "name": "python",
   "nbconvert_exporter": "python",
   "pygments_lexer": "ipython3",
   "version": "3.8.10"
  }
 },
 "nbformat": 4,
 "nbformat_minor": 5
}
